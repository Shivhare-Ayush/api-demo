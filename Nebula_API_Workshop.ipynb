{
 "cells": [
  {
   "cell_type": "markdown",
   "id": "d717f613",
   "metadata": {},
   "source": [
    "# Nebula API Workshop: Beginner-Friendly Guide\n",
    "Welcome! In this notebook, you'll learn how to interact with Nebula's API using Python. We'll cover how to fetch events, parse responses, and make simple API calls."
   ]
  },
  {
   "cell_type": "code",
   "execution_count": null,
   "id": "0cc3fd83",
   "metadata": {},
   "outputs": [],
   "source": [
    "# Setup: Import Required Libraries\n",
    "# If you don't have 'requests' installed, uncomment the next line:\n",
    "# !pip install requests\n",
    "import requests"
   ]
  },
  {
   "cell_type": "code",
   "execution_count": null,
   "id": "e0bde383",
   "metadata": {},
   "outputs": [],
   "source": [
    "# Example: Fetch events for a specific date\n",
    "# Replace with your API URL if different\n",
    "api_url = 'http://localhost:4000/api/events/2025-04-16'\n",
    "response = requests.get(api_url)\n",
    "print('Status code:', response.status_code)\n",
    "events_data = response.json()\n",
    "print('Events data:', events_data)"
   ]
  },
  {
   "cell_type": "code",
   "execution_count": null,
   "id": "d9bd07a3",
   "metadata": {},
   "outputs": [],
   "source": [
    "# Parse and display event data\n",
    "import pandas as pd\n",
    "# Assume events_data['data']['buildings'] contains a list of events\n",
    "if 'data' in events_data and 'buildings' in events_data['data']:\n",
    "    df = pd.DataFrame(events_data['data']['buildings'])\n",
    "    display(df)\n",
    "else:\n",
    "    print('No event data found.')"
   ]
  },
  {
   "cell_type": "code",
   "execution_count": null,
   "id": "f3c8f189",
   "metadata": {},
   "outputs": [],
   "source": [
    "# Example: Make a POST request (if supported by API)\n",
    "# This is a placeholder; update the URL and payload as needed\n",
    "post_url = 'http://localhost:4000/api/events/2025-04-16'\n",
    "payload = {'example_key': 'example_value'}\n",
    "post_response = requests.post(post_url, json=payload)\n",
    "print('POST status code:', post_response.status_code)\n",
    "print('POST response:', post_response.json())"
   ]
  },
  {
   "cell_type": "markdown",
   "id": "081c91c0",
   "metadata": {},
   "source": [
    "## Summary & Next Steps\n",
    "- You learned how to make GET and POST requests to Nebula's API.\n",
    "- You parsed and displayed event data using pandas.\n",
    "- Try changing the date or exploring other endpoints!\n",
    "\n",
    "For more, check the Nebula API documentation or ask your instructor."
   ]
  },
  {
   "cell_type": "markdown",
   "id": "da7ced08",
   "metadata": {},
   "source": [
    "[Nebula API Swagger Documentation](https://api.utdnebula.com/swagger/index.html#)\n",
    "\n",
    "Use this link to explore all available endpoints and details for the Nebula API."
   ]
  }
 ],
 "metadata": {
  "language_info": {
   "name": "python"
  }
 },
 "nbformat": 4,
 "nbformat_minor": 5
}
